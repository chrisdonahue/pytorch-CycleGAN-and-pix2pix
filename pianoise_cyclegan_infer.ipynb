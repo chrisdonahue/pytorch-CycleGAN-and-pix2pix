{
 "cells": [
  {
   "cell_type": "code",
   "execution_count": 1,
   "metadata": {},
   "outputs": [],
   "source": [
    "A_DIR = '/media/cdonahue/bulk1/datasets/pianoise/data/feats_melmagenta/ddc'\n",
    "B_DIR = '/media/cdonahue/bulk1/datasets/pianoise/data/feats_melmagenta/maestro'"
   ]
  },
  {
   "cell_type": "code",
   "execution_count": 60,
   "metadata": {},
   "outputs": [
    {
     "name": "stdout",
     "output_type": "stream",
     "text": [
      "/media/cdonahue/bulk1/datasets/pianoise/data/feats_melmagenta/assorted/undyne.npy\n",
      "(469, 229, 1)\n"
     ]
    }
   ],
   "source": [
    "#A_FEATS_DIR = os.path.join(A_DIR, 'valid')\n",
    "A_FEATS_DIR = '/media/cdonahue/bulk1/datasets/pianoise/data/feats_melmagenta/assorted'\n",
    "\n",
    "import glob\n",
    "import os\n",
    "import random\n",
    "\n",
    "import numpy as np\n",
    "\n",
    "feats_fps = glob.glob(os.path.join(A_FEATS_DIR, '*.npy'))\n",
    "\n",
    "feats_fp = random.choice(feats_fps)\n",
    "print(feats_fp)\n",
    "\n",
    "feats = np.load(feats_fp)\n",
    "print(feats.shape)"
   ]
  },
  {
   "cell_type": "code",
   "execution_count": 3,
   "metadata": {},
   "outputs": [
    {
     "name": "stdout",
     "output_type": "stream",
     "text": [
      "initialize network with normal\n",
      "initialize network with normal\n",
      "loading the model from /home/cdonahue/cyclegan/pytorch-CycleGAN-and-pix2pix/checkpoints/02_06_pianoise_default/iter_135000_net_G_A.pth\n",
      "loading the model from /home/cdonahue/cyclegan/pytorch-CycleGAN-and-pix2pix/checkpoints/02_06_pianoise_default/iter_135000_net_G_B.pth\n"
     ]
    }
   ],
   "source": [
    "MODEL_DIR = '/home/cdonahue/cyclegan/pytorch-CycleGAN-and-pix2pix/checkpoints'\n",
    "MODEL_NAME = '02_06_pianoise_default'\n",
    "CKPT_FP = 'iter_135000'\n",
    "\n",
    "from collections import namedtuple\n",
    "\n",
    "from models.cycle_gan_model import CycleGANModel\n",
    "\n",
    "opt = {\n",
    "    'gpu_ids': [0],\n",
    "    'isTrain': False,\n",
    "    'checkpoints_dir': MODEL_DIR,\n",
    "    'name': MODEL_NAME,\n",
    "    'preprocess': 'none',\n",
    "    'input_nc': 1,\n",
    "    'output_nc': 1,\n",
    "    'ngf': 64,\n",
    "    'ndf': 64,\n",
    "    'netG': 'resnet_9blocks',\n",
    "    'netD': 'basic',\n",
    "    'norm': 'instance',\n",
    "    'no_dropout': True,\n",
    "    'init_type': 'normal',\n",
    "    'init_gain': 0.02,\n",
    "}\n",
    "opt = namedtuple('opt', opt.keys())(*opt.values())\n",
    "\n",
    "model = CycleGANModel(opt)\n",
    "model.load_networks(CKPT_FP)\n",
    "model.eval()\n",
    "device = model.device"
   ]
  },
  {
   "cell_type": "code",
   "execution_count": 4,
   "metadata": {},
   "outputs": [
    {
     "name": "stdout",
     "output_type": "stream",
     "text": [
      "() () () ()\n"
     ]
    }
   ],
   "source": [
    "BAND_FEATS = False\n",
    "\n",
    "import os\n",
    "import numpy as np\n",
    "\n",
    "tag = 'band_' if BAND_FEATS else ''\n",
    "\n",
    "a_mean = np.load(os.path.join(A_DIR, '{}mean.npy'.format(tag)))\n",
    "a_std = np.load(os.path.join(A_DIR, '{}std.npy'.format(tag)))\n",
    "b_mean = np.load(os.path.join(B_DIR, '{}mean.npy'.format(tag)))\n",
    "b_std = np.load(os.path.join(B_DIR, '{}std.npy'.format(tag)))\n",
    "\n",
    "print(a_mean.shape, a_std.shape, b_mean.shape, b_std.shape)"
   ]
  },
  {
   "cell_type": "code",
   "execution_count": 5,
   "metadata": {},
   "outputs": [],
   "source": [
    "NUM_STD_DEVS = 5.\n",
    "\n",
    "def _norm_feats(x, mean, std, num_std_devs=NUM_STD_DEVS):\n",
    "    x = np.copy(x)\n",
    "    x -= mean\n",
    "    x /= std\n",
    "    x /= num_std_devs\n",
    "    return np.clip(x, -1., 1.)\n",
    "\n",
    "def _unnorm_feats(x_norm, mean, std, num_std_devs=NUM_STD_DEVS):\n",
    "    x = np.copy(x_norm)\n",
    "    x *= num_std_devs\n",
    "    x *= std\n",
    "    x += mean\n",
    "    return x"
   ]
  },
  {
   "cell_type": "code",
   "execution_count": 61,
   "metadata": {},
   "outputs": [
    {
     "name": "stderr",
     "output_type": "stream",
     "text": [
      "100%|██████████| 15/15 [00:00<00:00, 98.85it/s] "
     ]
    },
    {
     "name": "stdout",
     "output_type": "stream",
     "text": [
      "(469, 229, 1)\n"
     ]
    },
    {
     "name": "stderr",
     "output_type": "stream",
     "text": [
      "\n"
     ]
    }
   ],
   "source": [
    "SLICE_LEN = 256\n",
    "STRIDE = 32\n",
    "\n",
    "import torch\n",
    "from tqdm import tqdm\n",
    "\n",
    "feats_norm = _norm_feats(feats, a_mean, a_std)\n",
    "\n",
    "pad_amt = SLICE_LEN // 2\n",
    "feats_norm_padded = np.pad(feats_norm, [[pad_amt, pad_amt], [0, 256-229], [0, 0]], 'reflect')\n",
    "\n",
    "G_a_all = []\n",
    "for i in tqdm(range(0, feats_norm.shape[0], STRIDE)):\n",
    "    a = feats_norm_padded[i:i+SLICE_LEN]\n",
    "    a = np.transpose(a, [2, 0, 1])\n",
    "    assert a.shape == (1, 256, 256)\n",
    "    \n",
    "    a = torch.tensor(a).to(device)\n",
    "    a = torch.unsqueeze(a, 0)\n",
    "    G_a = model.netG_A(a)\n",
    "    \n",
    "    a = a.detach()\n",
    "    G_a = G_a.detach()\n",
    "    \n",
    "    G_a_all.append(G_a[:, :, pad_amt:pad_amt+STRIDE])\n",
    "G_a = torch.cat(G_a_all, dim=2)[0].cpu().numpy()\n",
    "G_a = np.transpose(G_a, [1, 2, 0])\n",
    "G_a = G_a[:feats.shape[0]]\n",
    "G_a = G_a[:, :229]\n",
    "G_a = _unnorm_feats(G_a, b_mean, b_std)\n",
    "print(G_a.shape)"
   ]
  },
  {
   "cell_type": "code",
   "execution_count": 62,
   "metadata": {},
   "outputs": [],
   "source": [
    "OUT_DIR = './02_07_pianose_cyclegan_stride32'\n",
    "\n",
    "if not os.path.isdir(OUT_DIR):\n",
    "    os.makedirs(OUT_DIR)\n",
    "out_fn = os.path.split(feats_fp)[1]\n",
    "out_fp = os.path.join(OUT_DIR, out_fn)\n",
    "np.save(out_fp, G_a)"
   ]
  },
  {
   "cell_type": "code",
   "execution_count": null,
   "metadata": {},
   "outputs": [],
   "source": [
    "import librosa\n",
    "import librosa.display\n",
    "import matplotlib.pyplot as plt\n",
    "\n",
    "def spec_preview(feats, nstart=1000, nlen=400):\n",
    "    plt.figure(figsize=(16, 9))\n",
    "    librosa.display.specshow(feats[nstart:nstart+nlen, :, 0].swapaxes(0, 1))\n",
    "\n",
    "spec_preview(feats)\n",
    "spec_preview(G_a)"
   ]
  }
 ],
 "metadata": {
  "kernelspec": {
   "display_name": "Pianoise",
   "language": "python",
   "name": "pianoise"
  },
  "language_info": {
   "codemirror_mode": {
    "name": "ipython",
    "version": 3
   },
   "file_extension": ".py",
   "mimetype": "text/x-python",
   "name": "python",
   "nbconvert_exporter": "python",
   "pygments_lexer": "ipython3",
   "version": "3.6.8"
  }
 },
 "nbformat": 4,
 "nbformat_minor": 2
}
